{
 "cells": [
  {
   "cell_type": "markdown",
   "metadata": {},
   "source": [
    "# REINFORCE Method\n",
    "\n",
    "---\n",
    "\n",
    "In this notebook, we will train OpenAI Gym's LunarLander environment using REINFORCE algorithm."
   ]
  },
  {
   "cell_type": "code",
   "execution_count": 1,
   "metadata": {},
   "outputs": [
    {
     "data": {
      "text/plain": [
       "device(type='cpu')"
      ]
     },
     "execution_count": 1,
     "metadata": {},
     "output_type": "execute_result"
    }
   ],
   "source": [
    "import torch\n",
    "import torch.nn as nn\n",
    "import torch.nn.functional as F\n",
    "import numpy as np\n",
    "import random\n",
    "import copy\n",
    "import gym\n",
    "from collections import deque, namedtuple\n",
    "from torch.distributions import Categorical\n",
    "import torch.optim as optim\n",
    "import matplotlib.pyplot as plt\n",
    "%matplotlib inline\n",
    "\n",
    "# device = torch.device('cuda:0' if torch.cuda.is_available() else 'cpu')\n",
    "device = torch.device('cpu')\n",
    "device"
   ]
  },
  {
   "cell_type": "code",
   "execution_count": 2,
   "metadata": {},
   "outputs": [
    {
     "name": "stderr",
     "output_type": "stream",
     "text": [
      "/home/sans/.local/lib/python3.6/site-packages/gym/logger.py:30: UserWarning: \u001b[33mWARN: Box bound precision lowered by casting to float32\u001b[0m\n",
      "  warnings.warn(colorize('%s: %s'%('WARN', msg % args), 'yellow'))\n"
     ]
    }
   ],
   "source": [
    "env = gym.make('LunarLander-v2')"
   ]
  },
  {
   "cell_type": "code",
   "execution_count": 3,
   "metadata": {},
   "outputs": [
    {
     "data": {
      "text/plain": [
       "4"
      ]
     },
     "execution_count": 3,
     "metadata": {},
     "output_type": "execute_result"
    }
   ],
   "source": [
    "action_size = env.action_space.n\n",
    "action_size"
   ]
  },
  {
   "cell_type": "code",
   "execution_count": 4,
   "metadata": {},
   "outputs": [
    {
     "data": {
      "text/plain": [
       "(array([-inf, -inf, -inf, -inf, -inf, -inf, -inf, -inf], dtype=float32),\n",
       " array([inf, inf, inf, inf, inf, inf, inf, inf], dtype=float32))"
      ]
     },
     "execution_count": 4,
     "metadata": {},
     "output_type": "execute_result"
    }
   ],
   "source": [
    "state_low = env.observation_space.low\n",
    "state_high = env.observation_space.high\n",
    "state_low, state_high"
   ]
  },
  {
   "cell_type": "code",
   "execution_count": 5,
   "metadata": {},
   "outputs": [
    {
     "data": {
      "text/plain": [
       "8"
      ]
     },
     "execution_count": 5,
     "metadata": {},
     "output_type": "execute_result"
    }
   ],
   "source": [
    "state_size = len(state_low)\n",
    "state_size"
   ]
  },
  {
   "cell_type": "code",
   "execution_count": 6,
   "metadata": {},
   "outputs": [
    {
     "data": {
      "text/plain": [
       "array([-1.499723  , -0.5449795 ,  0.7257358 , -2.2710986 ,  1.1904254 ,\n",
       "        0.7725752 , -0.8288671 , -0.12636793], dtype=float32)"
      ]
     },
     "execution_count": 6,
     "metadata": {},
     "output_type": "execute_result"
    }
   ],
   "source": [
    "sample_state = env.observation_space.sample()\n",
    "sample_state"
   ]
  },
  {
   "cell_type": "markdown",
   "metadata": {},
   "source": [
    "### Initialize the model\n",
    "\n",
    "I have created a simple neural network. Note that I have used softmax activation in the\n",
    "final layer to get the probablities of all the actions. \n",
    "Also, I calculate the categorical distribution of the probablities and return the log the \n",
    "probablity of the action."
   ]
  },
  {
   "cell_type": "code",
   "execution_count": 67,
   "metadata": {},
   "outputs": [],
   "source": [
    "class Model(nn.Module):\n",
    "    def __init__(self, state_size, action_size):\n",
    "        super(Model, self).__init__()\n",
    "        self.seed = torch.manual_seed(0)\n",
    "        \n",
    "        self.state_size = state_size\n",
    "        self.action_size = action_size\n",
    "        \n",
    "        self.fc1 = nn.Linear(state_size, 16)\n",
    "#         self.fc2 = nn.Linear(16, 16)\n",
    "        self.fc3 = nn.Linear(16, action_size)\n",
    "        \n",
    "    def forward(self, x):\n",
    "        x = torch.from_numpy(x).float().unsqueeze(0)\n",
    "        x = F.relu(self.fc1(x))\n",
    "#         x = F.relu(self.fc2(x))\n",
    "        \n",
    "        action_prob = F.softmax(self.fc3(x), dim=1)\n",
    "        \n",
    "        m = Categorical(action_prob)\n",
    "        action = m.sample()\n",
    "        \n",
    "        return action.item(), m.log_prob(action)"
   ]
  },
  {
   "cell_type": "code",
   "execution_count": 68,
   "metadata": {},
   "outputs": [],
   "source": [
    "model = Model(state_size, action_size)"
   ]
  },
  {
   "cell_type": "code",
   "execution_count": 69,
   "metadata": {},
   "outputs": [],
   "source": [
    "# state = torch.from_numpy(sample_state).float().unsqueeze(0)\n",
    "a, l = model(sample_state)"
   ]
  },
  {
   "cell_type": "code",
   "execution_count": 70,
   "metadata": {},
   "outputs": [
    {
     "data": {
      "text/plain": [
       "(1, tensor([-1.1177], grad_fn=<SqueezeBackward1>))"
      ]
     },
     "execution_count": 70,
     "metadata": {},
     "output_type": "execute_result"
    }
   ],
   "source": [
    "a, l"
   ]
  },
  {
   "cell_type": "markdown",
   "metadata": {},
   "source": [
    "### Train the model\n",
    "\n",
    "I tried multiple changes to make REINFORCE work LunarLander. I tried complicating the neural\n",
    "network to 2 hidden layers with 256 & 512 nodes, but the loss could not come below -130. \n",
    "\n",
    "**If you have certain suggestion on this, to solve the env using REINFORCE. \n",
    "Fork the repo and make a PR for it.**"
   ]
  },
  {
   "cell_type": "code",
   "execution_count": 71,
   "metadata": {},
   "outputs": [],
   "source": [
    "optimizer = optim.Adam(model.parameters(), lr=0.01)\n",
    "print_every = 100\n",
    "\n",
    "def reinforce():\n",
    "    score_deque = deque(maxlen=100)\n",
    "    scores = []\n",
    "    n_episodes = 5000\n",
    "    gamma = 1.0\n",
    "    \n",
    "    for i_episode in range(n_episodes):\n",
    "        state = env.reset()\n",
    "        done = False\n",
    "        all_log_probs = []\n",
    "        all_rewards = []\n",
    "        while not done:\n",
    "            action, log_prob = model(state)\n",
    "            all_log_probs.append(log_prob)\n",
    "            new_state, reward, done, _ = env.step(action)\n",
    "            state = new_state\n",
    "            all_rewards.append(reward)\n",
    "            if done:\n",
    "                break\n",
    "                \n",
    "        score_deque.append(sum(all_rewards))\n",
    "        scores.append(sum(all_rewards))\n",
    "        \n",
    "        discounts = [gamma**i for i in range(len(all_rewards))]\n",
    "        total_reward = sum([a*b for a,b in zip(discounts, all_rewards)])\n",
    "        policy_loss = []\n",
    "        \n",
    "        for log_prob in all_log_probs:\n",
    "            policy_loss.append(-log_prob*total_reward)\n",
    "        \n",
    "#         for index, (log_prob, reward) in enumerate(zip(all_log_probs, all_rewards)):\n",
    "#             policy_loss.append(-log_prob*reward*discounts[index])\n",
    "                \n",
    "        policy_loss = torch.cat(policy_loss).sum()\n",
    "        \n",
    "        optimizer.zero_grad()\n",
    "        policy_loss.backward()\n",
    "        optimizer.step()\n",
    "        \n",
    "        if i_episode % print_every == 0:\n",
    "            print('Episode {}\\tAverage Score: {:.2f}'.format(i_episode, np.mean(score_deque)))\n",
    "            \n",
    "        if np.mean(score_deque) >= 200.0:\n",
    "            torch.save(model.state_dict(), 'checkpoint.pth')\n",
    "            break\n",
    "        \n",
    "    return scores"
   ]
  },
  {
   "cell_type": "code",
   "execution_count": 72,
   "metadata": {},
   "outputs": [
    {
     "name": "stdout",
     "output_type": "stream",
     "text": [
      "Episode 0\tAverage Score: -403.28\n",
      "Episode 100\tAverage Score: -181.64\n",
      "Episode 200\tAverage Score: -166.46\n",
      "Episode 300\tAverage Score: -131.89\n",
      "Episode 400\tAverage Score: -142.89\n",
      "Episode 500\tAverage Score: -160.83\n",
      "Episode 600\tAverage Score: -121.32\n",
      "Episode 700\tAverage Score: -119.62\n",
      "Episode 800\tAverage Score: -168.74\n",
      "Episode 900\tAverage Score: -562.41\n",
      "Episode 1000\tAverage Score: -373.35\n",
      "Episode 1100\tAverage Score: -196.66\n",
      "Episode 1200\tAverage Score: -186.59\n",
      "Episode 1300\tAverage Score: -159.39\n",
      "Episode 1400\tAverage Score: -140.96\n",
      "Episode 1500\tAverage Score: -157.79\n",
      "Episode 1600\tAverage Score: -150.93\n",
      "Episode 1700\tAverage Score: -140.56\n",
      "Episode 1800\tAverage Score: -136.26\n",
      "Episode 1900\tAverage Score: -143.72\n",
      "Episode 2000\tAverage Score: -154.67\n",
      "Episode 2100\tAverage Score: -137.92\n",
      "Episode 2200\tAverage Score: -141.35\n",
      "Episode 2300\tAverage Score: -130.13\n",
      "Episode 2400\tAverage Score: -136.01\n",
      "Episode 2500\tAverage Score: -131.83\n",
      "Episode 2600\tAverage Score: -139.78\n",
      "Episode 2700\tAverage Score: -136.22\n",
      "Episode 2800\tAverage Score: -134.84\n",
      "Episode 2900\tAverage Score: -132.99\n",
      "Episode 3000\tAverage Score: -132.19\n",
      "Episode 3100\tAverage Score: -128.68\n",
      "Episode 3200\tAverage Score: -137.09\n",
      "Episode 3300\tAverage Score: -126.37\n",
      "Episode 3400\tAverage Score: -135.61\n",
      "Episode 3500\tAverage Score: -132.32\n",
      "Episode 3600\tAverage Score: -132.72\n",
      "Episode 3700\tAverage Score: -129.23\n",
      "Episode 3800\tAverage Score: -135.83\n",
      "Episode 3900\tAverage Score: -135.24\n",
      "Episode 4000\tAverage Score: -131.32\n",
      "Episode 4100\tAverage Score: -136.56\n",
      "Episode 4200\tAverage Score: -128.77\n",
      "Episode 4300\tAverage Score: -138.29\n",
      "Episode 4400\tAverage Score: -123.01\n",
      "Episode 4500\tAverage Score: -125.03\n",
      "Episode 4600\tAverage Score: -131.02\n",
      "Episode 4700\tAverage Score: -127.86\n",
      "Episode 4800\tAverage Score: -132.20\n",
      "Episode 4900\tAverage Score: -134.69\n"
     ]
    }
   ],
   "source": [
    "scores = reinforce()   ## when trained with hidden layers of 256 & 512 nodes"
   ]
  },
  {
   "cell_type": "code",
   "execution_count": 73,
   "metadata": {
    "scrolled": true
   },
   "outputs": [
    {
     "data": {
      "image/png": "[encoded data removed]",
      "text/plain": [
       "<Figure size 432x288 with 1 Axes>"
      ]
     },
     "metadata": {
      "needs_background": "light"
     },
     "output_type": "display_data"
    }
   ],
   "source": [
    "fig = plt.figure()\n",
    "ax = fig.add_subplot(111)\n",
    "plt.plot(np.arange(1, len(scores)+1), scores)\n",
    "plt.ylabel('Score')\n",
    "plt.xlabel('Episode #')\n",
    "plt.show()"
   ]
  },
  {
   "cell_type": "code",
   "execution_count": null,
   "metadata": {},
   "outputs": [],
   "source": [
    "env.close()"
   ]
  }
 ],
 "metadata": {
  "kernelspec": {
   "display_name": "Python 3",
   "language": "python",
   "name": "python3"
  },
  "language_info": {
   "codemirror_mode": {
    "name": "ipython",
    "version": 3
   },
   "file_extension": ".py",
   "mimetype": "text/x-python",
   "name": "python",
   "nbconvert_exporter": "python",
   "pygments_lexer": "ipython3",
   "version": "3.6.8"
  }
 },
 "nbformat": 4,
 "nbformat_minor": 4
}
